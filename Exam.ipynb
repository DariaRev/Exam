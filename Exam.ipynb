{
 "cells": [
  {
   "cell_type": "markdown",
   "metadata": {},
   "source": [
    "Вариант 2: Дан текст, разделенный на абзацы. Необходимо построить обратный индекс этого текста, показывающий в каком абзаце и на какой позиции хранится слово. Пользователь вводит два слова. Необходимо определить, находятся ли эти два слова в соседних абзацах. Если слова находятся в одном абзаце, необходимо найти расстояние между ними."
   ]
  },
  {
   "cell_type": "code",
   "execution_count": 312,
   "metadata": {},
   "outputs": [],
   "source": [
    "import re\n",
    "import string\n",
    "def readfile(filename):\n",
    "    with open(filename, encoding = 'utf-8') as f:\n",
    "        res1 = f.read().replace('\\n',' ').lower()\n",
    "        res2 = re.split('\\s{4,}',res1)\n",
    "        t = re.sub(r'[^\\w\\s+]','',res1)\n",
    "        res2 = re.split('\\s{4,}',t)\n",
    "    return res2"
   ]
  },
  {
   "cell_type": "code",
   "execution_count": 313,
   "metadata": {},
   "outputs": [],
   "source": [
    "def f (par):\n",
    "    d = {}\n",
    "    i = 0\n",
    "    for word in par.split():\n",
    "        i +=1\n",
    "        if word not in d:\n",
    "            d[word] = []\n",
    "        d[word].append(i)\n",
    "    return d"
   ]
  },
  {
   "cell_type": "code",
   "execution_count": 314,
   "metadata": {},
   "outputs": [],
   "source": [
    "def inwhatpar(list_par):\n",
    "    d = {}\n",
    "    i = 0\n",
    "    for par in list_par:\n",
    "        #print(par)\n",
    "        if len(par) == 0:\n",
    "            continue\n",
    "        i+=1\n",
    "        p=f(par)\n",
    "        #print(p)\n",
    "        for word in p.keys():\n",
    "            if word not in d.keys():\n",
    "                d[word] = {}\n",
    "            d[word][i] = p[word]\n",
    "    return d"
   ]
  },
  {
   "cell_type": "code",
   "execution_count": 315,
   "metadata": {},
   "outputs": [],
   "source": [
    "def difference(pos1, pos2):\n",
    "    res = max(max(pos1), max(pos2))\n",
    "    for i1 in pos1:\n",
    "        for i2 in pos2:\n",
    "            dif = abs(i1-i2)\n",
    "            if dif < res:\n",
    "                res = dif\n",
    "    return res"
   ]
  },
  {
   "cell_type": "code",
   "execution_count": 316,
   "metadata": {},
   "outputs": [],
   "source": [
    "def check(a, b, d):\n",
    "    if a not in d or b not in d:\n",
    "        return(False, 0)\n",
    "    inNeib = False\n",
    "    \n",
    "    for p1 in d[a].keys():\n",
    "        for p2 in d[b].keys():\n",
    "            dif = abs(p1-p2)\n",
    "            #print(\"dif = \", dif)\n",
    "            if dif == 0:\n",
    "                return(True, difference(d[a][p1], d[b][p2]))\n",
    "            if dif > 1:\n",
    "                continue\n",
    "            inNeib = True\n",
    "    if inNeib:\n",
    "        return (True, 0)\n",
    "    return False"
   ]
  },
  {
   "cell_type": "code",
   "execution_count": 317,
   "metadata": {},
   "outputs": [
    {
     "name": "stdout",
     "output_type": "stream",
     "text": [
      "купанье\n",
      "планы\n",
      "В одном абзаце, расстояние =  11\n"
     ]
    }
   ],
   "source": [
    "p = readfile('check.txt')\n",
    "q = inwhatpar(p)\n",
    "#print(q)\n",
    "a= input()\n",
    "b = input()\n",
    "ans, dif= check(a, b, q)\n",
    "if ans:\n",
    "    if dif > 0:\n",
    "        print(\"В одном абзаце, расстояние = \", dif)\n",
    "    else:\n",
    "        print(\"В соседних\")\n",
    "else:\n",
    "    print(\"Не рядом\")"
   ]
  }
 ],
 "metadata": {
  "kernelspec": {
   "display_name": "Python 3",
   "language": "python",
   "name": "python3"
  },
  "language_info": {
   "codemirror_mode": {
    "name": "ipython",
    "version": 3
   },
   "file_extension": ".py",
   "mimetype": "text/x-python",
   "name": "python",
   "nbconvert_exporter": "python",
   "pygments_lexer": "ipython3",
   "version": "3.8.0"
  }
 },
 "nbformat": 4,
 "nbformat_minor": 4
}
